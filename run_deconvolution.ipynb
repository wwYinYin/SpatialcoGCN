{
 "cells": [
  {
   "cell_type": "code",
   "execution_count": 1,
   "metadata": {},
   "outputs": [
    {
     "data": {
      "text/html": [
       "<style type='text/css'>\n",
       ".datatable table.frame { margin-bottom: 0; }\n",
       ".datatable table.frame thead { border-bottom: none; }\n",
       ".datatable table.frame tr.coltypes td {  color: #FFFFFF;  line-height: 6px;  padding: 0 0.5em;}\n",
       ".datatable .bool    { background: #DDDD99; }\n",
       ".datatable .object  { background: #565656; }\n",
       ".datatable .int     { background: #5D9E5D; }\n",
       ".datatable .float   { background: #4040CC; }\n",
       ".datatable .str     { background: #CC4040; }\n",
       ".datatable .time    { background: #40CC40; }\n",
       ".datatable .row_index {  background: var(--jp-border-color3);  border-right: 1px solid var(--jp-border-color0);  color: var(--jp-ui-font-color3);  font-size: 9px;}\n",
       ".datatable .frame tbody td { text-align: left; }\n",
       ".datatable .frame tr.coltypes .row_index {  background: var(--jp-border-color0);}\n",
       ".datatable th:nth-child(2) { padding-left: 12px; }\n",
       ".datatable .hellipsis {  color: var(--jp-cell-editor-border-color);}\n",
       ".datatable .vellipsis {  background: var(--jp-layout-color0);  color: var(--jp-cell-editor-border-color);}\n",
       ".datatable .na {  color: var(--jp-cell-editor-border-color);  font-size: 80%;}\n",
       ".datatable .sp {  opacity: 0.25;}\n",
       ".datatable .footer { font-size: 9px; }\n",
       ".datatable .frame_dimensions {  background: var(--jp-border-color3);  border-top: 1px solid var(--jp-border-color0);  color: var(--jp-ui-font-color3);  display: inline-block;  opacity: 0.6;  padding: 1px 10px 1px 5px;}\n",
       "</style>\n"
      ],
      "text/plain": [
       "<IPython.core.display.HTML object>"
      ]
     },
     "metadata": {},
     "output_type": "display_data"
    },
    {
     "name": "stdout",
     "output_type": "stream",
     "text": [
      "pancreatic A cell           443\n",
      "type B pancreatic cell      171\n",
      "pancreatic ductal cell      135\n",
      "pancreatic acinar cell      112\n",
      "pancreatic PP cell           75\n",
      "pancreatic D cell            59\n",
      "pancreatic stellate cell     23\n",
      "endothelial cell             13\n",
      "pancreatic epsilon cell       5\n",
      "mast cell                     4\n",
      "Name: celltype, dtype: int64\n"
     ]
    }
   ],
   "source": [
    "import numpy as np\n",
    "import scanpy as sc\n",
    "import pandas as pd\n",
    "from tool import train\n",
    "from tool.data import preprocessing\n",
    "from tool.deconv_metric import CalDataMetric\n",
    "import warnings\n",
    "warnings.filterwarnings(\"ignore\")\n",
    "from tool.data import mapping_adj2matrix,adata_to_cluster_expression\n",
    "from tool.calculate_adj import cal_adj,another_cal_adj\n",
    "\n",
    "DataDir=\"./data/SimualtedSpatialData/dataset7/\"\n",
    "#DataDir=\"./data/SpatialcoGCN-SimData/dataset12/\"\n",
    "sc_file_path = DataDir+'scRNA.h5ad'\n",
    "spatial_file_path = DataDir+'Spatial.h5ad'\n",
    "RNA_data_adata = sc.read_h5ad(sc_file_path)\n",
    "Spatial_data_adata = sc.read_h5ad(spatial_file_path)\n",
    "RNA_data_adata.obs['celltype']=RNA_data_adata.obs['celltype_final']\n",
    "celltype_counts = RNA_data_adata.obs['celltype'].value_counts()\n",
    "print(celltype_counts)\n",
    "# celltype_drop = celltype_counts.index[celltype_counts < 2]\n",
    "# print(f'Drop celltype {list(celltype_drop)} contain less 2 sample')\n",
    "# RNA_data_adata = RNA_data_adata[~RNA_data_adata.obs['celltype'].isin(celltype_drop),]"
   ]
  },
  {
   "cell_type": "code",
   "execution_count": 2,
   "metadata": {},
   "outputs": [
    {
     "name": "stdout",
     "output_type": "stream",
     "text": [
      "Data exists, load it\n",
      "load adj dataframe\n",
      "Drop celltype [] contain less 2 sample\n",
      "WARNING: Default of the method has been changed to 't-test' from 't-test_overestim_var'\n",
      "View of AnnData object with n_obs × n_vars = 1010 × 1619\n",
      "    obs: 'celltype', 'cluster_density', 'cell_counts', 'n_genes', 'rna_count_based_density', 'batch'\n",
      "    var: 'n_cells-0', 'n_cells-1'\n"
     ]
    }
   ],
   "source": [
    "RNA_ret_adata=RNA_data_adata.copy()\n",
    "sc.pp.normalize_total(RNA_ret_adata)\n",
    "RNA_ret_adata=adata_to_cluster_expression(RNA_ret_adata)\n",
    "\n",
    "adj_df=another_cal_adj(RNA_ret_adata,Spatial_data_adata,DataDir)\n",
    "concat_st_sc=preprocessing(RNA_data_adata,Spatial_data_adata)\n",
    "print(concat_st_sc)"
   ]
  },
  {
   "cell_type": "code",
   "execution_count": 4,
   "metadata": {},
   "outputs": [],
   "source": [
    "adj_matrix=mapping_adj2matrix(adj_df,concat_st_sc)\n",
    "ad_map=train.start(concat_st_sc,adj_matrix,GCN_method=\"coGCN\")"
   ]
  },
  {
   "cell_type": "code",
   "execution_count": null,
   "metadata": {},
   "outputs": [],
   "source": [
    "ad_map.obs=ad_map.obs.dropna(axis=1, how='all')\n",
    "ad_map.var=ad_map.var.dropna(axis=1, how='all')\n",
    "print(ad_map)\n",
    "save_path=DataDir+'results/coGCN_result.h5ad'\n",
    "print(save_path)\n",
    "# ad_map.write(save_path)"
   ]
  }
 ],
 "metadata": {
  "kernelspec": {
   "display_name": "yw",
   "language": "python",
   "name": "python3"
  },
  "language_info": {
   "codemirror_mode": {
    "name": "ipython",
    "version": 3
   },
   "file_extension": ".py",
   "mimetype": "text/x-python",
   "name": "python",
   "nbconvert_exporter": "python",
   "pygments_lexer": "ipython3",
   "version": "3.9.13"
  },
  "orig_nbformat": 4
 },
 "nbformat": 4,
 "nbformat_minor": 2
}
