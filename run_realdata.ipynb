{
 "cells": [
  {
   "cell_type": "code",
   "execution_count": 2,
   "metadata": {},
   "outputs": [
    {
     "name": "stdout",
     "output_type": "stream",
     "text": [
      "Neurons       5155\n",
      "Oligos        1009\n",
      "Astrocytes     822\n",
      "Vascular       710\n",
      "Immune         482\n",
      "Excluded       198\n",
      "Blood           46\n",
      "Ependymal       27\n",
      "Name: celltype, dtype: int64\n"
     ]
    }
   ],
   "source": [
    "import numpy as np\n",
    "import scanpy as sc\n",
    "import pandas as pd\n",
    "from tool import train\n",
    "from tool.data import preprocessing,mapping_adj2pyg\n",
    "import warnings\n",
    "warnings.filterwarnings(\"ignore\")\n",
    "from tool.data import mapping_adj2matrix,adata_to_cluster_expression\n",
    "from tool.calculate_adj import cal_adj,another_cal_adj\n",
    "\n",
    "DataDir=\"./data/realdata/mousebrain/\"\n",
    "sc_file_path = DataDir+'scRNA.h5ad'\n",
    "spatial_file_path = DataDir+'Spatial.h5ad'\n",
    "RNA_data_adata = sc.read_h5ad(sc_file_path)\n",
    "Spatial_data_adata = sc.read_h5ad(spatial_file_path)\n",
    "#RNA_data_adata.obs['celltype']=RNA_data_adata.obs['celltype_final']\n",
    "celltype_counts = RNA_data_adata.obs['celltype'].value_counts()\n",
    "print(celltype_counts)"
   ]
  },
  {
   "cell_type": "code",
   "execution_count": 2,
   "metadata": {},
   "outputs": [],
   "source": [
    "RNA_ret_adata=RNA_data_adata.copy()\n",
    "sc.pp.normalize_total(RNA_ret_adata)\n",
    "RNA_ret_adata=adata_to_cluster_expression(RNA_ret_adata)"
   ]
  },
  {
   "cell_type": "code",
   "execution_count": 3,
   "metadata": {},
   "outputs": [
    {
     "name": "stdout",
     "output_type": "stream",
     "text": [
      "AnnData object with n_obs × n_vars = 8449 × 27998\n",
      "    obs: 'celltype'\n",
      "AnnData object with n_obs × n_vars = 1213 × 19199\n",
      "AnnData object with n_obs × n_vars = 8 × 27998\n",
      "    obs: 'celltype', 'cluster_density'\n"
     ]
    }
   ],
   "source": [
    "print(RNA_data_adata)\n",
    "print(Spatial_data_adata)\n",
    "print(RNA_ret_adata)"
   ]
  },
  {
   "cell_type": "code",
   "execution_count": 4,
   "metadata": {},
   "outputs": [
    {
     "name": "stdout",
     "output_type": "stream",
     "text": [
      "Data exists, load it\n",
      "load adj dataframe\n",
      "Drop celltype [] contain less 2 sample\n",
      "WARNING: Default of the method has been changed to 't-test' from 't-test_overestim_var'\n",
      "View of AnnData object with n_obs × n_vars = 1220 × 1331\n",
      "    obs: 'celltype', 'cluster_density', 'n_genes', 'rna_count_based_density', 'batch'\n",
      "    var: 'n_cells-0', 'n_cells-1'\n"
     ]
    }
   ],
   "source": [
    "adj_df=another_cal_adj(RNA_ret_adata,Spatial_data_adata,DataDir)\n",
    "concat_st_sc=preprocessing(RNA_data_adata,Spatial_data_adata)\n",
    "print(concat_st_sc)"
   ]
  },
  {
   "cell_type": "code",
   "execution_count": 5,
   "metadata": {},
   "outputs": [
    {
     "name": "stdout",
     "output_type": "stream",
     "text": [
      "Epoch 000: Loss 0.9636978507041931\n",
      "Epoch 010: Loss 0.842496395111084\n",
      "Epoch 020: Loss 0.8074029684066772\n",
      "Epoch 030: Loss 0.7761646509170532\n",
      "Epoch 040: Loss 0.752677857875824\n",
      "Epoch 050: Loss 0.7369974255561829\n",
      "Epoch 060: Loss 0.724661648273468\n",
      "Epoch 070: Loss 0.7177507877349854\n",
      "Epoch 080: Loss 0.7105493545532227\n",
      "Epoch 090: Loss 0.7016606330871582\n",
      "Epoch 100: Loss 0.6910685300827026\n",
      "Epoch 110: Loss 0.6791782379150391\n",
      "Epoch 120: Loss 0.6746663451194763\n",
      "Epoch 130: Loss 0.6719542741775513\n",
      "Epoch 140: Loss 0.6705181002616882\n",
      "Epoch 150: Loss 0.6693385243415833\n",
      "Epoch 160: Loss 0.6681720018386841\n",
      "Epoch 170: Loss 0.6672033667564392\n",
      "Epoch 180: Loss 0.6674150228500366\n",
      "Epoch 190: Loss 0.6646138429641724\n",
      "Epoch 200: Loss 0.6630411744117737\n",
      "Epoch 210: Loss 0.6623125672340393\n",
      "Epoch 220: Loss 0.6617318391799927\n",
      "Epoch 230: Loss 0.6611130237579346\n",
      "Epoch 240: Loss 0.6605608463287354\n",
      "Epoch 250: Loss 0.6605273485183716\n",
      "Epoch 260: Loss 0.6609710454940796\n",
      "Epoch 270: Loss 0.6603024005889893\n",
      "Epoch 280: Loss 0.6591469049453735\n",
      "Epoch 290: Loss 0.6597162485122681\n"
     ]
    }
   ],
   "source": [
    "adj_matrix=mapping_adj2pyg(adj_df,concat_st_sc)\n",
    "ad_map1=train.start(concat_st_sc,adj_matrix,GCN_method=\"pygGCN\")"
   ]
  },
  {
   "cell_type": "code",
   "execution_count": 6,
   "metadata": {},
   "outputs": [
    {
     "name": "stdout",
     "output_type": "stream",
     "text": [
      "AnnData object with n_obs × n_vars = 1212 × 8\n",
      "    obs: 'n_genes', 'rna_count_based_density', 'batch'\n",
      "    var: 'celltype', 'cluster_density', 'batch'\n",
      "./data/realdata/mousebrain//pygGCN_result2.h5ad\n"
     ]
    }
   ],
   "source": [
    "ad_map1.obs=ad_map1.obs.dropna(axis=1, how='all')\n",
    "ad_map1.var=ad_map1.var.dropna(axis=1, how='all')\n",
    "print(ad_map1)\n",
    "save_path=DataDir+'/pygGCN_result2.h5ad'\n",
    "print(save_path)\n",
    "ad_map1.write(save_path)"
   ]
  },
  {
   "cell_type": "code",
   "execution_count": 7,
   "metadata": {},
   "outputs": [
    {
     "name": "stdout",
     "output_type": "stream",
     "text": [
      "Epoch 000: Loss 1.0166479349136353\n",
      "Epoch 010: Loss 1.0\n",
      "Epoch 020: Loss 1.0\n",
      "Epoch 030: Loss 1.0\n",
      "Epoch 040: Loss 1.0\n",
      "Epoch 050: Loss 1.0\n"
     ]
    },
    {
     "ename": "KeyboardInterrupt",
     "evalue": "",
     "output_type": "error",
     "traceback": [
      "\u001b[0;31m---------------------------------------------------------------------------\u001b[0m",
      "\u001b[0;31mKeyboardInterrupt\u001b[0m                         Traceback (most recent call last)",
      "Cell \u001b[0;32mIn [7], line 2\u001b[0m\n\u001b[1;32m      1\u001b[0m adj_matrix\u001b[39m=\u001b[39mmapping_adj2matrix(adj_df,concat_st_sc)\n\u001b[0;32m----> 2\u001b[0m ad_map\u001b[39m=\u001b[39mtrain_realdata\u001b[39m.\u001b[39;49mstart(concat_st_sc,adj_matrix,GCN_method\u001b[39m=\u001b[39;49m\u001b[39m\"\u001b[39;49m\u001b[39mcoGCN\u001b[39;49m\u001b[39m\"\u001b[39;49m)\n",
      "File \u001b[0;32m~/my_GCN/train_realdata.py:76\u001b[0m, in \u001b[0;36mstart\u001b[0;34m(adata, adj, GCN_method, seed)\u001b[0m\n\u001b[1;32m     74\u001b[0m n_celltype\u001b[39m=\u001b[39m\u001b[39mlen\u001b[39m(adata\u001b[39m.\u001b[39mobs[adata\u001b[39m.\u001b[39mobs[\u001b[39m\"\u001b[39m\u001b[39mbatch\u001b[39m\u001b[39m\"\u001b[39m]\u001b[39m==\u001b[39m\u001b[39m\"\u001b[39m\u001b[39m0\u001b[39m\u001b[39m\"\u001b[39m])\n\u001b[1;32m     75\u001b[0m \u001b[39mif\u001b[39;00m GCN_method\u001b[39m==\u001b[39m\u001b[39m\"\u001b[39m\u001b[39mcoGCN\u001b[39m\u001b[39m\"\u001b[39m:\n\u001b[0;32m---> 76\u001b[0m     output\u001b[39m=\u001b[39mcoGCN_training(adata,adj,n_celltype,device) \u001b[39m#[189×15]\u001b[39;00m\n\u001b[1;32m     77\u001b[0m \u001b[39mif\u001b[39;00m GCN_method\u001b[39m==\u001b[39m\u001b[39m\"\u001b[39m\u001b[39mpygGCN\u001b[39m\u001b[39m\"\u001b[39m:\n\u001b[1;32m     78\u001b[0m     output\u001b[39m=\u001b[39mpygGCN_training(adata,adj,n_celltype,device) \u001b[39m#[189×15]\u001b[39;00m\n",
      "File \u001b[0;32m~/my_GCN/train_realdata.py:54\u001b[0m, in \u001b[0;36mcoGCN_training\u001b[0;34m(adata, adj, n_celltype, device)\u001b[0m\n\u001b[1;32m     50\u001b[0m \u001b[39m# density_loss=density_loss_fn(d_pred,d)\u001b[39;00m\n\u001b[1;32m     51\u001b[0m \u001b[39m# total_loss=loss+density_loss\u001b[39;00m\n\u001b[1;32m     53\u001b[0m optimizer\u001b[39m.\u001b[39mzero_grad()\n\u001b[0;32m---> 54\u001b[0m loss\u001b[39m.\u001b[39;49mbackward()\n\u001b[1;32m     55\u001b[0m optimizer\u001b[39m.\u001b[39mstep()\n\u001b[1;32m     57\u001b[0m \u001b[39mif\u001b[39;00m epoch\u001b[39m%\u001b[39m\u001b[39m10\u001b[39m\u001b[39m==\u001b[39m\u001b[39m0\u001b[39m:\n\u001b[1;32m     58\u001b[0m     \u001b[39m#print(pred_M)\u001b[39;00m\n",
      "File \u001b[0;32m/opt/miniconda3/envs/yw/lib/python3.9/site-packages/torch/_tensor.py:487\u001b[0m, in \u001b[0;36mTensor.backward\u001b[0;34m(self, gradient, retain_graph, create_graph, inputs)\u001b[0m\n\u001b[1;32m    477\u001b[0m \u001b[39mif\u001b[39;00m has_torch_function_unary(\u001b[39mself\u001b[39m):\n\u001b[1;32m    478\u001b[0m     \u001b[39mreturn\u001b[39;00m handle_torch_function(\n\u001b[1;32m    479\u001b[0m         Tensor\u001b[39m.\u001b[39mbackward,\n\u001b[1;32m    480\u001b[0m         (\u001b[39mself\u001b[39m,),\n\u001b[0;32m   (...)\u001b[0m\n\u001b[1;32m    485\u001b[0m         inputs\u001b[39m=\u001b[39minputs,\n\u001b[1;32m    486\u001b[0m     )\n\u001b[0;32m--> 487\u001b[0m torch\u001b[39m.\u001b[39;49mautograd\u001b[39m.\u001b[39;49mbackward(\n\u001b[1;32m    488\u001b[0m     \u001b[39mself\u001b[39;49m, gradient, retain_graph, create_graph, inputs\u001b[39m=\u001b[39;49minputs\n\u001b[1;32m    489\u001b[0m )\n",
      "File \u001b[0;32m/opt/miniconda3/envs/yw/lib/python3.9/site-packages/torch/autograd/__init__.py:197\u001b[0m, in \u001b[0;36mbackward\u001b[0;34m(tensors, grad_tensors, retain_graph, create_graph, grad_variables, inputs)\u001b[0m\n\u001b[1;32m    192\u001b[0m     retain_graph \u001b[39m=\u001b[39m create_graph\n\u001b[1;32m    194\u001b[0m \u001b[39m# The reason we repeat same the comment below is that\u001b[39;00m\n\u001b[1;32m    195\u001b[0m \u001b[39m# some Python versions print out the first line of a multi-line function\u001b[39;00m\n\u001b[1;32m    196\u001b[0m \u001b[39m# calls in the traceback and some print out the last line\u001b[39;00m\n\u001b[0;32m--> 197\u001b[0m Variable\u001b[39m.\u001b[39;49m_execution_engine\u001b[39m.\u001b[39;49mrun_backward(  \u001b[39m# Calls into the C++ engine to run the backward pass\u001b[39;49;00m\n\u001b[1;32m    198\u001b[0m     tensors, grad_tensors_, retain_graph, create_graph, inputs,\n\u001b[1;32m    199\u001b[0m     allow_unreachable\u001b[39m=\u001b[39;49m\u001b[39mTrue\u001b[39;49;00m, accumulate_grad\u001b[39m=\u001b[39;49m\u001b[39mTrue\u001b[39;49;00m)\n",
      "\u001b[0;31mKeyboardInterrupt\u001b[0m: "
     ]
    }
   ],
   "source": [
    "adj_matrix=mapping_adj2matrix(adj_df,concat_st_sc)\n",
    "ad_map=train.start(concat_st_sc,adj_matrix,GCN_method=\"coGCN\")"
   ]
  },
  {
   "cell_type": "code",
   "execution_count": null,
   "metadata": {},
   "outputs": [
    {
     "name": "stdout",
     "output_type": "stream",
     "text": [
      "AnnData object with n_obs × n_vars = 1212 × 8\n",
      "    obs: 'n_genes', 'rna_count_based_density', 'batch'\n",
      "    var: 'celltype', 'cluster_density', 'batch'\n",
      "./data/realdata/mousebrain//coGCN_result1.h5ad\n"
     ]
    }
   ],
   "source": [
    "ad_map.obs=ad_map.obs.dropna(axis=1, how='all')\n",
    "ad_map.var=ad_map.var.dropna(axis=1, how='all')\n",
    "print(ad_map)\n",
    "save_path=DataDir+'/coGCN_result2.h5ad'\n",
    "print(save_path)\n",
    "ad_map.write(save_path)"
   ]
  }
 ],
 "metadata": {
  "kernelspec": {
   "display_name": "yw",
   "language": "python",
   "name": "python3"
  },
  "language_info": {
   "codemirror_mode": {
    "name": "ipython",
    "version": 3
   },
   "file_extension": ".py",
   "mimetype": "text/x-python",
   "name": "python",
   "nbconvert_exporter": "python",
   "pygments_lexer": "ipython3",
   "version": "3.9.13"
  },
  "orig_nbformat": 4,
  "vscode": {
   "interpreter": {
    "hash": "ebbdff288f15729aecf796ae30123e3e6c6398eceb1e4a6b8963c1ec326e4375"
   }
  }
 },
 "nbformat": 4,
 "nbformat_minor": 2
}
